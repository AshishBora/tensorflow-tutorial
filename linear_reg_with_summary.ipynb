{
 "cells": [
  {
   "cell_type": "code",
   "execution_count": null,
   "metadata": {
    "collapsed": false
   },
   "outputs": [],
   "source": [
    "import numpy as np\n",
    "import tensorflow as tf\n",
    "import matplotlib.pyplot as plt\n",
    "%matplotlib inline"
   ]
  },
  {
   "cell_type": "markdown",
   "metadata": {},
   "source": [
    "### Generate some synthetic data"
   ]
  },
  {
   "cell_type": "code",
   "execution_count": null,
   "metadata": {
    "collapsed": false
   },
   "outputs": [],
   "source": [
    "X = np.random.random([100, 1])\n",
    "w_star = 2.0\n",
    "noise = 0.2 * np.random.randn(100, 1)\n",
    "y = X * w_star + noise\n",
    "f = plt.scatter(X, y)"
   ]
  },
  {
   "cell_type": "markdown",
   "metadata": {},
   "source": [
    "### Start with tensors for inputs"
   ]
  },
  {
   "cell_type": "code",
   "execution_count": null,
   "metadata": {
    "collapsed": true
   },
   "outputs": [],
   "source": [
    "inputs = tf.placeholder(tf.float32, shape = [100, 1], name = 'inputs')\n",
    "targets = tf.placeholder(tf.float32, shape = [100, 1], name = 'targets')"
   ]
  },
  {
   "cell_type": "markdown",
   "metadata": {},
   "source": [
    "### Declare variables"
   ]
  },
  {
   "cell_type": "code",
   "execution_count": null,
   "metadata": {
    "collapsed": true
   },
   "outputs": [],
   "source": [
    "w = tf.Variable(tf.random_normal([1, 1]), name = 'w')"
   ]
  },
  {
   "cell_type": "markdown",
   "metadata": {},
   "source": [
    "### Define the model and loss"
   ]
  },
  {
   "cell_type": "code",
   "execution_count": null,
   "metadata": {
    "collapsed": false
   },
   "outputs": [],
   "source": [
    "preds = tf.matmul(inputs, w, name = 'preds')\n",
    "\n",
    "# WARNING : Always check shapes when followed by shape agnostic operations\n",
    "assert preds.get_shape() == targets.get_shape()\n",
    "\n",
    "loss = tf.nn.l2_loss(preds - targets, name='loss')"
   ]
  },
  {
   "cell_type": "markdown",
   "metadata": {},
   "source": [
    "### Define optimization steps"
   ]
  },
  {
   "cell_type": "code",
   "execution_count": null,
   "metadata": {
    "collapsed": false
   },
   "outputs": [],
   "source": [
    "learning_rate = 0.001\n",
    "opt = tf.train.GradientDescentOptimizer(learning_rate)\n",
    "grads = opt.compute_gradients(loss)\n",
    "train_op = opt.apply_gradients(grads, name = 'train_op')"
   ]
  },
  {
   "cell_type": "markdown",
   "metadata": {},
   "source": [
    "### Summaries"
   ]
  },
  {
   "cell_type": "code",
   "execution_count": null,
   "metadata": {
    "collapsed": false
   },
   "outputs": [],
   "source": [
    "# Summaries can be added anywhere the tensor we want to summarize is visible\n",
    "tf.scalar_summary('train_loss', loss)\n",
    "tf.scalar_summary('w', w[0, 0])\n",
    "\n",
    "# Get a single op for all summaries\n",
    "summary_op = tf.merge_all_summaries()  \n",
    "\n",
    "# directory for writing summaries\n",
    "summary_dir = '/tmp/lin_reg_summ/'"
   ]
  },
  {
   "cell_type": "markdown",
   "metadata": {},
   "source": [
    "### Start training"
   ]
  },
  {
   "cell_type": "code",
   "execution_count": null,
   "metadata": {
    "collapsed": false
   },
   "outputs": [],
   "source": [
    "MAX_TRAIN_STEPS = 100\n",
    "SUMMARY_STEPS = 1\n",
    "\n",
    "init_op = tf.initialize_all_variables()\n",
    "with tf.Session() as sess:\n",
    "    # object that handles summary writing\n",
    "    # We also give sess.graph to store the current computation graph\n",
    "    summary_writer = tf.train.SummaryWriter(summary_dir, sess.graph)\n",
    "    \n",
    "    sess.run([init_op])\n",
    "    feed_dict = {inputs : X,\n",
    "                 targets: y}\n",
    "    for step in range(0, MAX_TRAIN_STEPS):\n",
    "        _, summary_str = sess.run([train_op, summary_op], feed_dict = feed_dict)\n",
    "        if step % SUMMARY_STEPS == 0:\n",
    "            summary_writer.add_summary(summary_str, step)  # Write to disk"
   ]
  },
  {
   "cell_type": "markdown",
   "metadata": {},
   "source": [
    "Run tensorboard with \n",
    "\n",
    "`$ tensorboard --logdir='/tmp/lin_reg_summ/'`"
   ]
  }
 ],
 "metadata": {
  "kernelspec": {
   "display_name": "Python 2",
   "language": "python",
   "name": "python2"
  },
  "language_info": {
   "codemirror_mode": {
    "name": "ipython",
    "version": 2
   },
   "file_extension": ".py",
   "mimetype": "text/x-python",
   "name": "python",
   "nbconvert_exporter": "python",
   "pygments_lexer": "ipython2",
   "version": "2.7.11"
  }
 },
 "nbformat": 4,
 "nbformat_minor": 0
}
